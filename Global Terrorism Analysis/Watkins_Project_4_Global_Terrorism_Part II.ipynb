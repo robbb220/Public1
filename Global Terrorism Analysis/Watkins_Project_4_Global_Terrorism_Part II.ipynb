{
 "cells": [
  {
   "cell_type": "code",
   "execution_count": 1,
   "metadata": {
    "collapsed": false
   },
   "outputs": [],
   "source": [
    "import numpy as np                        #using new noteback because keeping track of class names got difficult \n",
    "import pandas as pd \n",
    "import matplotlib.pyplot as plt\n",
    "%matplotlib inline\n",
    "%config InlineBackend.figure_format = 'retina'"
   ]
  },
  {
   "cell_type": "code",
   "execution_count": 2,
   "metadata": {
    "collapsed": false
   },
   "outputs": [
    {
     "name": "stdout",
     "output_type": "stream",
     "text": [
      "Couldn't import dot_parser, loading of dot files will not be possible.\n"
     ]
    }
   ],
   "source": [
    "import pymc3 as pm              #general purpose MCMC starts here \n",
    "import seaborn as sns\n",
    "plt.style.use('fivethirtyeight')"
   ]
  },
  {
   "cell_type": "code",
   "execution_count": 3,
   "metadata": {
    "collapsed": false
   },
   "outputs": [
    {
     "name": "stderr",
     "output_type": "stream",
     "text": [
      "/Users/robwatkins/anaconda/lib/python2.7/site-packages/IPython/core/interactiveshell.py:2717: DtypeWarning: Columns (61,62,66,116,117,123) have mixed types. Specify dtype option on import or set low_memory=False.\n",
      "  interactivity=interactivity, compiler=compiler, result=result)\n"
     ]
    }
   ],
   "source": [
    "gtdb = pd.read_csv('/Users/robwatkins/Desktop/gtdb_data.csv', encoding='ISO-8859-1')"
   ]
  },
  {
   "cell_type": "markdown",
   "metadata": {},
   "source": [
    "From Stack Overflow: The drawback to the above encoding scheme is its inability to accommodate languages comprised of more than 128 symbols. ISO-8859 encodings have fallen out of favor with the rise of UTF."
   ]
  },
  {
   "cell_type": "code",
   "execution_count": 4,
   "metadata": {
    "collapsed": false
   },
   "outputs": [],
   "source": [
    "df_prior = gtdb[(gtdb.attacktype1 == 2) & (gtdb.region == 6) & (gtdb.iyear <= 2009)].groupby(['iyear', 'country_txt']).attacktype1.count().values\n",
    "#readapted from NKhan121 github on Global Terrorism database \n",
    "#Boko Horam gained traction in terms of its terrorist attacks in 2009 so im looking at the values before that "
   ]
  },
  {
   "cell_type": "code",
   "execution_count": 5,
   "metadata": {
    "collapsed": false
   },
   "outputs": [
    {
     "data": {
      "text/plain": [
       "array([  1,   1,   9,   2,   2,   1,   1,   1,   2,  14,   3,   1,  21,\n",
       "         2,  35,   1,  14,  57,   1,  44,  11, 110,   2, 135,   9,  94,\n",
       "         4, 203,   9,  74,  24,  95,   2,  21, 101,  27,  74,   4,  24,\n",
       "        92,   2,  17,  64,   4,  34,   2,  77,   5,  26,  18, 272,  32,\n",
       "         1,  34,  61,   4,  56,  33,   6,  52,   3,  83,   6,   2,  27,\n",
       "        11,   4,   2,   2,  36,   4,  13,   6,   1,  10,  64,   8,   4,\n",
       "         9,   2,   4,  95,  11,  13,  10,   4,   1,  65,   8,  11,  18,\n",
       "        70,   2,   9,   2,  28,  32,  13,  11,   7,  40,   1,  44,   9,\n",
       "        11,  57,  69,  48,  20,  26,  73,  94,  45,  26,  41,  33,  94,\n",
       "         5, 163,  20, 120,  29,  96,   5, 233,   7, 118,  11])"
      ]
     },
     "execution_count": 5,
     "metadata": {},
     "output_type": "execute_result"
    }
   ],
   "source": [
    "df_prior"
   ]
  },
  {
   "cell_type": "code",
   "execution_count": 6,
   "metadata": {
    "collapsed": false
   },
   "outputs": [
    {
     "name": "stdout",
     "output_type": "stream",
     "text": [
      "34.1953125\n"
     ]
    }
   ],
   "source": [
    "df_prior_mean = df_prior.mean()      #identify prior mean \n",
    "print df_prior_mean"
   ]
  },
  {
   "cell_type": "code",
   "execution_count": 10,
   "metadata": {
    "collapsed": false
   },
   "outputs": [
    {
     "name": "stdout",
     "output_type": "stream",
     "text": [
      "46.5359502485\n"
     ]
    }
   ],
   "source": [
    "df_prior_std = df_prior.std()       #identify prior standard deviation \n",
    "print df_prior_std"
   ]
  },
  {
   "cell_type": "code",
   "execution_count": 7,
   "metadata": {
    "collapsed": false
   },
   "outputs": [
    {
     "name": "stderr",
     "output_type": "stream",
     "text": [
      "/Users/robwatkins/anaconda/lib/python2.7/site-packages/ipykernel/__main__.py:1: UserWarning: Boolean Series key will be reindexed to match DataFrame index.\n",
      "  if __name__ == '__main__':\n"
     ]
    },
    {
     "data": {
      "text/plain": [
       "country_txt\n",
       "Angola                               489\n",
       "Benin                                  8\n",
       "Botswana                              10\n",
       "Burkina Faso                           3\n",
       "Burundi                              359\n",
       "Cameroon                              22\n",
       "Central African Republic              20\n",
       "Chad                                  51\n",
       "Comoros                                5\n",
       "Democratic Republic of the Congo     128\n",
       "Djibouti                              19\n",
       "Equatorial Guinea                      2\n",
       "Eritrea                                8\n",
       "Ethiopia                             128\n",
       "Gabon                                  4\n",
       "Gambia                                 3\n",
       "Ghana                                 17\n",
       "Guinea                                20\n",
       "Guinea-Bissau                          8\n",
       "Ivory Coast                           25\n",
       "Kenya                                121\n",
       "Lesotho                               28\n",
       "Liberia                               31\n",
       "Madagascar                            21\n",
       "Malawi                                 4\n",
       "Mali                                  54\n",
       "Mauritania                            14\n",
       "Mozambique                           224\n",
       "Namibia                              151\n",
       "Niger                                 60\n",
       "Nigeria                              339\n",
       "People's Republic of the Congo         3\n",
       "Republic of the Congo                 20\n",
       "Rhodesia                              83\n",
       "Rwanda                               134\n",
       "Senegal                               94\n",
       "Seychelles                             2\n",
       "Sierra Leone                          97\n",
       "Somalia                              655\n",
       "South Africa                        1918\n",
       "Sudan                                221\n",
       "Swaziland                             16\n",
       "Tanzania                              17\n",
       "Togo                                  48\n",
       "Uganda                               340\n",
       "Zaire                                 48\n",
       "Zambia                                60\n",
       "Zimbabwe                              92\n",
       "Name: attacktype1, dtype: int64"
      ]
     },
     "execution_count": 7,
     "metadata": {},
     "output_type": "execute_result"
    }
   ],
   "source": [
    "gtdb[gtdb.region == 11][gtdb.iyear <= 2009].groupby('country_txt').attacktype1.count()"
   ]
  },
  {
   "cell_type": "code",
   "execution_count": null,
   "metadata": {
    "collapsed": false
   },
   "outputs": [],
   "source": []
  },
  {
   "cell_type": "code",
   "execution_count": 12,
   "metadata": {
    "collapsed": false
   },
   "outputs": [],
   "source": [
    "mean_prior_mean = df_prior_mean\n",
    "mean_prior_std = df_prior_std"
   ]
  },
  {
   "cell_type": "code",
   "execution_count": 13,
   "metadata": {
    "collapsed": false
   },
   "outputs": [],
   "source": [
    "nigeriap = gtdb[(gtdb.attacktype1 == 2) & (gtdb.country == 147) & (gtdb.iyear > 2009)].groupby(['iyear']).attacktype1.count().values\n",
    "\n"
   ]
  },
  {
   "cell_type": "code",
   "execution_count": 14,
   "metadata": {
    "collapsed": false
   },
   "outputs": [
    {
     "data": {
      "text/plain": [
       "array([ 18,  82, 247, 198, 374, 318])"
      ]
     },
     "execution_count": 14,
     "metadata": {},
     "output_type": "execute_result"
    }
   ],
   "source": [
    "nigeriap       #disaster's array from pymcmc.pdf?"
   ]
  },
  {
   "cell_type": "code",
   "execution_count": 15,
   "metadata": {
    "collapsed": false,
    "scrolled": true
   },
   "outputs": [
    {
     "name": "stdout",
     "output_type": "stream",
     "text": [
      "206.166666667\n"
     ]
    }
   ],
   "source": [
    "nigeriap_mean = nigeriap.mean()  #2009-2015 Nigeria  \n",
    "print nigeriap_mean\n",
    "\n"
   ]
  },
  {
   "cell_type": "code",
   "execution_count": null,
   "metadata": {
    "collapsed": true
   },
   "outputs": [],
   "source": []
  },
  {
   "cell_type": "code",
   "execution_count": 16,
   "metadata": {
    "collapsed": false
   },
   "outputs": [
    {
     "name": "stdout",
     "output_type": "stream",
     "text": [
      "124.654745419\n"
     ]
    }
   ],
   "source": [
    "nigeriap_std = nigeriap.std()\n",
    "print nigeriap_std"
   ]
  },
  {
   "cell_type": "code",
   "execution_count": 17,
   "metadata": {
    "collapsed": true
   },
   "outputs": [],
   "source": [
    "nigerp = gtdb[(gtdb.attacktype1 == 2) & (gtdb.country == 146) & (gtdb.iyear > 2009)].groupby(['iyear']).attacktype1.count().values"
   ]
  },
  {
   "cell_type": "code",
   "execution_count": 18,
   "metadata": {
    "collapsed": false
   },
   "outputs": [
    {
     "data": {
      "text/html": [
       "<div>\n",
       "<table border=\"1\" class=\"dataframe\">\n",
       "  <thead>\n",
       "    <tr style=\"text-align: right;\">\n",
       "      <th></th>\n",
       "      <th>eventid</th>\n",
       "      <th>iyear</th>\n",
       "      <th>imonth</th>\n",
       "      <th>iday</th>\n",
       "      <th>approxdate</th>\n",
       "      <th>extended</th>\n",
       "      <th>resolution</th>\n",
       "      <th>country</th>\n",
       "      <th>country_txt</th>\n",
       "      <th>region</th>\n",
       "      <th>...</th>\n",
       "      <th>addnotes</th>\n",
       "      <th>scite1</th>\n",
       "      <th>scite2</th>\n",
       "      <th>scite3</th>\n",
       "      <th>dbsource</th>\n",
       "      <th>INT_LOG</th>\n",
       "      <th>INT_IDEO</th>\n",
       "      <th>INT_MISC</th>\n",
       "      <th>INT_ANY</th>\n",
       "      <th>related</th>\n",
       "    </tr>\n",
       "  </thead>\n",
       "  <tbody>\n",
       "    <tr>\n",
       "      <th>95528</th>\n",
       "      <td>2.010030e+11</td>\n",
       "      <td>2010</td>\n",
       "      <td>3</td>\n",
       "      <td>8</td>\n",
       "      <td>1970-01-01 00:03:21.003</td>\n",
       "      <td>0</td>\n",
       "      <td>NaN</td>\n",
       "      <td>146</td>\n",
       "      <td>Niger</td>\n",
       "      <td>11</td>\n",
       "      <td>...</td>\n",
       "      <td>NaN</td>\n",
       "      <td>Mahamane Laouali Can Dah, \"Five soldiers, thre...</td>\n",
       "      <td>\"At least five Niger soldiers killed in desert...</td>\n",
       "      <td>NaN</td>\n",
       "      <td>UMD Algeria 2010-2012</td>\n",
       "      <td>-9</td>\n",
       "      <td>-9</td>\n",
       "      <td>0</td>\n",
       "      <td>-9</td>\n",
       "      <td>NaN</td>\n",
       "    </tr>\n",
       "    <tr>\n",
       "      <th>101849</th>\n",
       "      <td>2.011060e+11</td>\n",
       "      <td>2011</td>\n",
       "      <td>6</td>\n",
       "      <td>12</td>\n",
       "      <td>1970-01-01 00:03:21.106</td>\n",
       "      <td>0</td>\n",
       "      <td>NaN</td>\n",
       "      <td>146</td>\n",
       "      <td>Niger</td>\n",
       "      <td>11</td>\n",
       "      <td>...</td>\n",
       "      <td>NaN</td>\n",
       "      <td>Bate Felix, \"Two Die in Niger Clash With Sahel...</td>\n",
       "      <td>JaneÃs Intelligence, ÃUnidentified Militants...</td>\n",
       "      <td>Sebastian Boe, \"Two Killed in Clashes between ...</td>\n",
       "      <td>ISVG</td>\n",
       "      <td>1</td>\n",
       "      <td>1</td>\n",
       "      <td>0</td>\n",
       "      <td>1</td>\n",
       "      <td>NaN</td>\n",
       "    </tr>\n",
       "    <tr>\n",
       "      <th>117552</th>\n",
       "      <td>2.013060e+11</td>\n",
       "      <td>2013</td>\n",
       "      <td>6</td>\n",
       "      <td>1</td>\n",
       "      <td>1970-01-01 00:03:21.306</td>\n",
       "      <td>0</td>\n",
       "      <td>NaN</td>\n",
       "      <td>146</td>\n",
       "      <td>Niger</td>\n",
       "      <td>11</td>\n",
       "      <td>...</td>\n",
       "      <td>NaN</td>\n",
       "      <td>\"Niger says 'terrorists escaped' in jail raid,...</td>\n",
       "      <td>\"Gunmen attack prison in heart of Niger's capi...</td>\n",
       "      <td>\"Belmokhtar claims Niger violence,\" Magharebia...</td>\n",
       "      <td>START Primary Collection</td>\n",
       "      <td>0</td>\n",
       "      <td>1</td>\n",
       "      <td>0</td>\n",
       "      <td>1</td>\n",
       "      <td>NaN</td>\n",
       "    </tr>\n",
       "    <tr>\n",
       "      <th>117832</th>\n",
       "      <td>2.013060e+11</td>\n",
       "      <td>2013</td>\n",
       "      <td>6</td>\n",
       "      <td>11</td>\n",
       "      <td>1970-01-01 00:03:21.306</td>\n",
       "      <td>0</td>\n",
       "      <td>NaN</td>\n",
       "      <td>146</td>\n",
       "      <td>Niger</td>\n",
       "      <td>11</td>\n",
       "      <td>...</td>\n",
       "      <td>NaN</td>\n",
       "      <td>\"Gunfire at paramilitary barracks in Niger cap...</td>\n",
       "      <td>\"Gendarmerie camp attacked by armed men in Nig...</td>\n",
       "      <td>\"Official: Shooting breaks out near Niger base...</td>\n",
       "      <td>START Primary Collection</td>\n",
       "      <td>-9</td>\n",
       "      <td>-9</td>\n",
       "      <td>0</td>\n",
       "      <td>-9</td>\n",
       "      <td>NaN</td>\n",
       "    </tr>\n",
       "    <tr>\n",
       "      <th>131191</th>\n",
       "      <td>2.014050e+11</td>\n",
       "      <td>2014</td>\n",
       "      <td>5</td>\n",
       "      <td>6</td>\n",
       "      <td>1970-01-01 00:03:21.405</td>\n",
       "      <td>0</td>\n",
       "      <td>NaN</td>\n",
       "      <td>146</td>\n",
       "      <td>Niger</td>\n",
       "      <td>11</td>\n",
       "      <td>...</td>\n",
       "      <td>NaN</td>\n",
       "      <td>\"Niger arrests three suspected Boko Haram gunm...</td>\n",
       "      <td>NaN</td>\n",
       "      <td>NaN</td>\n",
       "      <td>START Primary Collection</td>\n",
       "      <td>1</td>\n",
       "      <td>1</td>\n",
       "      <td>0</td>\n",
       "      <td>1</td>\n",
       "      <td>NaN</td>\n",
       "    </tr>\n",
       "    <tr>\n",
       "      <th>139525</th>\n",
       "      <td>2.014100e+11</td>\n",
       "      <td>2014</td>\n",
       "      <td>10</td>\n",
       "      <td>30</td>\n",
       "      <td>1970-01-01 00:03:21.410</td>\n",
       "      <td>0</td>\n",
       "      <td>NaN</td>\n",
       "      <td>146</td>\n",
       "      <td>Niger</td>\n",
       "      <td>11</td>\n",
       "      <td>...</td>\n",
       "      <td>Casualty numbers for this incident conflict ac...</td>\n",
       "      <td>\"Niger says 9 security forces killed by '  ter...</td>\n",
       "      <td>\"9 Niger security forces killed in militant at...</td>\n",
       "      <td>\"SOCAFRICA: Northern Mali Incident Tracker: 27...</td>\n",
       "      <td>START Primary Collection</td>\n",
       "      <td>-9</td>\n",
       "      <td>-9</td>\n",
       "      <td>0</td>\n",
       "      <td>-9</td>\n",
       "      <td>201410300017, 201410300018</td>\n",
       "    </tr>\n",
       "    <tr>\n",
       "      <th>139526</th>\n",
       "      <td>2.014100e+11</td>\n",
       "      <td>2014</td>\n",
       "      <td>10</td>\n",
       "      <td>30</td>\n",
       "      <td>1970-01-01 00:03:21.410</td>\n",
       "      <td>0</td>\n",
       "      <td>NaN</td>\n",
       "      <td>146</td>\n",
       "      <td>Niger</td>\n",
       "      <td>11</td>\n",
       "      <td>...</td>\n",
       "      <td>NaN</td>\n",
       "      <td>\"Niger says 9 security forces killed by '  ter...</td>\n",
       "      <td>\"9 Niger security forces killed in militant at...</td>\n",
       "      <td>\"SOCAFRICA: Northern Mali Incident Tracker: 27...</td>\n",
       "      <td>START Primary Collection</td>\n",
       "      <td>-9</td>\n",
       "      <td>-9</td>\n",
       "      <td>0</td>\n",
       "      <td>-9</td>\n",
       "      <td>201410300016, 201410300018</td>\n",
       "    </tr>\n",
       "    <tr>\n",
       "      <th>139527</th>\n",
       "      <td>2.014100e+11</td>\n",
       "      <td>2014</td>\n",
       "      <td>10</td>\n",
       "      <td>30</td>\n",
       "      <td>1970-01-01 00:03:21.410</td>\n",
       "      <td>0</td>\n",
       "      <td>NaN</td>\n",
       "      <td>146</td>\n",
       "      <td>Niger</td>\n",
       "      <td>11</td>\n",
       "      <td>...</td>\n",
       "      <td>NaN</td>\n",
       "      <td>\"Niger says 9 security forces killed by '  ter...</td>\n",
       "      <td>\"9 Niger security forces killed in militant at...</td>\n",
       "      <td>\"SOCAFRICA: Northern Mali Incident Tracker: 27...</td>\n",
       "      <td>START Primary Collection</td>\n",
       "      <td>-9</td>\n",
       "      <td>-9</td>\n",
       "      <td>0</td>\n",
       "      <td>-9</td>\n",
       "      <td>201410300016, 201410300017</td>\n",
       "    </tr>\n",
       "    <tr>\n",
       "      <th>140387</th>\n",
       "      <td>2.014110e+11</td>\n",
       "      <td>2014</td>\n",
       "      <td>11</td>\n",
       "      <td>19</td>\n",
       "      <td>1970-01-01 00:03:21.411</td>\n",
       "      <td>0</td>\n",
       "      <td>NaN</td>\n",
       "      <td>146</td>\n",
       "      <td>Niger</td>\n",
       "      <td>11</td>\n",
       "      <td>...</td>\n",
       "      <td>Casualty numbers for this attack conflict acro...</td>\n",
       "      <td>\"UPDATE 1-Niger sends helicopters to Mali bord...</td>\n",
       "      <td>\"Expatriates in Niger face heightened risk of ...</td>\n",
       "      <td>NaN</td>\n",
       "      <td>START Primary Collection</td>\n",
       "      <td>0</td>\n",
       "      <td>1</td>\n",
       "      <td>0</td>\n",
       "      <td>1</td>\n",
       "      <td>NaN</td>\n",
       "    </tr>\n",
       "    <tr>\n",
       "      <th>143765</th>\n",
       "      <td>2.015020e+11</td>\n",
       "      <td>2015</td>\n",
       "      <td>2</td>\n",
       "      <td>6</td>\n",
       "      <td>1970-01-01 00:03:21.502</td>\n",
       "      <td>0</td>\n",
       "      <td>NaN</td>\n",
       "      <td>146</td>\n",
       "      <td>Niger</td>\n",
       "      <td>11</td>\n",
       "      <td>...</td>\n",
       "      <td>Casualty numbers for this incident conflict ac...</td>\n",
       "      <td>\"Boko Haram attacks Niger for first time,\" Age...</td>\n",
       "      <td>\"Niger: 109 Boko Haram Militants Killed inside...</td>\n",
       "      <td>\"109 Boko Haram fighters killed in Niger,\" The...</td>\n",
       "      <td>START Primary Collection</td>\n",
       "      <td>1</td>\n",
       "      <td>1</td>\n",
       "      <td>0</td>\n",
       "      <td>1</td>\n",
       "      <td>2.01502E+11</td>\n",
       "    </tr>\n",
       "    <tr>\n",
       "      <th>143766</th>\n",
       "      <td>2.015020e+11</td>\n",
       "      <td>2015</td>\n",
       "      <td>2</td>\n",
       "      <td>6</td>\n",
       "      <td>1970-01-01 00:03:21.502</td>\n",
       "      <td>0</td>\n",
       "      <td>NaN</td>\n",
       "      <td>146</td>\n",
       "      <td>Niger</td>\n",
       "      <td>11</td>\n",
       "      <td>...</td>\n",
       "      <td>Casualty numbers for this incident conflict ac...</td>\n",
       "      <td>\"Niger: 109 Boko Haram Militants Killed inside...</td>\n",
       "      <td>\"109 Boko Haram fighters killed in Niger,\" The...</td>\n",
       "      <td>NaN</td>\n",
       "      <td>START Primary Collection</td>\n",
       "      <td>1</td>\n",
       "      <td>1</td>\n",
       "      <td>0</td>\n",
       "      <td>1</td>\n",
       "      <td>2.01502E+11</td>\n",
       "    </tr>\n",
       "    <tr>\n",
       "      <th>143892</th>\n",
       "      <td>2.015020e+11</td>\n",
       "      <td>2015</td>\n",
       "      <td>2</td>\n",
       "      <td>9</td>\n",
       "      <td>1970-01-01 00:03:21.502</td>\n",
       "      <td>0</td>\n",
       "      <td>NaN</td>\n",
       "      <td>146</td>\n",
       "      <td>Niger</td>\n",
       "      <td>11</td>\n",
       "      <td>...</td>\n",
       "      <td>NaN</td>\n",
       "      <td>\"Boko Haram Wages New Niger Attack As M Ps Vot...</td>\n",
       "      <td>\"Boko Haram ambushes prison in Niger as Africa...</td>\n",
       "      <td>\"Boko Haram   attacks   Niger prison before vo...</td>\n",
       "      <td>START Primary Collection</td>\n",
       "      <td>1</td>\n",
       "      <td>1</td>\n",
       "      <td>0</td>\n",
       "      <td>1</td>\n",
       "      <td>2.01502E+11</td>\n",
       "    </tr>\n",
       "    <tr>\n",
       "      <th>144298</th>\n",
       "      <td>2.015020e+11</td>\n",
       "      <td>2015</td>\n",
       "      <td>2</td>\n",
       "      <td>16</td>\n",
       "      <td>1970-01-01 00:03:21.502</td>\n",
       "      <td>0</td>\n",
       "      <td>NaN</td>\n",
       "      <td>146</td>\n",
       "      <td>Niger</td>\n",
       "      <td>11</td>\n",
       "      <td>...</td>\n",
       "      <td>NaN</td>\n",
       "      <td>\"Suspected Boko Haram suicide attack thwarted ...</td>\n",
       "      <td>\"Niger says troops kill suspected Boko Haram s...</td>\n",
       "      <td>NaN</td>\n",
       "      <td>START Primary Collection</td>\n",
       "      <td>1</td>\n",
       "      <td>1</td>\n",
       "      <td>0</td>\n",
       "      <td>1</td>\n",
       "      <td>2.01502E+11</td>\n",
       "    </tr>\n",
       "    <tr>\n",
       "      <th>144807</th>\n",
       "      <td>2.015030e+11</td>\n",
       "      <td>2015</td>\n",
       "      <td>3</td>\n",
       "      <td>1</td>\n",
       "      <td>1970-01-01 00:03:21.503</td>\n",
       "      <td>0</td>\n",
       "      <td>NaN</td>\n",
       "      <td>146</td>\n",
       "      <td>Niger</td>\n",
       "      <td>11</td>\n",
       "      <td>...</td>\n",
       "      <td>Casualty numbers for this attack represent a d...</td>\n",
       "      <td>\"19 killed in Boko Haram   attack   in Niger: ...</td>\n",
       "      <td>\"Boko Haram   militants   kill 19 in Niger,\" I...</td>\n",
       "      <td>NaN</td>\n",
       "      <td>START Primary Collection</td>\n",
       "      <td>1</td>\n",
       "      <td>1</td>\n",
       "      <td>0</td>\n",
       "      <td>1</td>\n",
       "      <td>201503010159, 201503010160</td>\n",
       "    </tr>\n",
       "    <tr>\n",
       "      <th>144808</th>\n",
       "      <td>2.015030e+11</td>\n",
       "      <td>2015</td>\n",
       "      <td>3</td>\n",
       "      <td>1</td>\n",
       "      <td>1970-01-01 00:03:21.503</td>\n",
       "      <td>0</td>\n",
       "      <td>NaN</td>\n",
       "      <td>146</td>\n",
       "      <td>Niger</td>\n",
       "      <td>11</td>\n",
       "      <td>...</td>\n",
       "      <td>Casualty numbers for this attack represent a d...</td>\n",
       "      <td>\"19 killed in Boko Haram   attack   in Niger: ...</td>\n",
       "      <td>\"Boko Haram   militants   kill 19 in Niger,\" I...</td>\n",
       "      <td>NaN</td>\n",
       "      <td>START Primary Collection</td>\n",
       "      <td>1</td>\n",
       "      <td>1</td>\n",
       "      <td>0</td>\n",
       "      <td>1</td>\n",
       "      <td>201503010158, 201503010160</td>\n",
       "    </tr>\n",
       "    <tr>\n",
       "      <th>144809</th>\n",
       "      <td>2.015030e+11</td>\n",
       "      <td>2015</td>\n",
       "      <td>3</td>\n",
       "      <td>1</td>\n",
       "      <td>1970-01-01 00:03:21.503</td>\n",
       "      <td>0</td>\n",
       "      <td>NaN</td>\n",
       "      <td>146</td>\n",
       "      <td>Niger</td>\n",
       "      <td>11</td>\n",
       "      <td>...</td>\n",
       "      <td>Casualty numbers for this attack represent a d...</td>\n",
       "      <td>\"19 killed in Boko Haram   attack   in Niger: ...</td>\n",
       "      <td>\"Boko Haram   militants   kill 19 in Niger,\" I...</td>\n",
       "      <td>NaN</td>\n",
       "      <td>START Primary Collection</td>\n",
       "      <td>1</td>\n",
       "      <td>1</td>\n",
       "      <td>0</td>\n",
       "      <td>1</td>\n",
       "      <td>201503010158, 201503010159</td>\n",
       "    </tr>\n",
       "    <tr>\n",
       "      <th>144887</th>\n",
       "      <td>2.015030e+11</td>\n",
       "      <td>2015</td>\n",
       "      <td>3</td>\n",
       "      <td>3</td>\n",
       "      <td>1970-01-01 00:03:21.503</td>\n",
       "      <td>0</td>\n",
       "      <td>NaN</td>\n",
       "      <td>146</td>\n",
       "      <td>Niger</td>\n",
       "      <td>11</td>\n",
       "      <td>...</td>\n",
       "      <td>NaN</td>\n",
       "      <td>\"2 killed in Boko Haram attack in Niger,\" Xinh...</td>\n",
       "      <td>NaN</td>\n",
       "      <td>NaN</td>\n",
       "      <td>START Primary Collection</td>\n",
       "      <td>1</td>\n",
       "      <td>1</td>\n",
       "      <td>0</td>\n",
       "      <td>1</td>\n",
       "      <td>NaN</td>\n",
       "    </tr>\n",
       "    <tr>\n",
       "      <th>146904</th>\n",
       "      <td>2.015040e+11</td>\n",
       "      <td>2015</td>\n",
       "      <td>4</td>\n",
       "      <td>25</td>\n",
       "      <td>1970-01-01 00:03:21.504</td>\n",
       "      <td>0</td>\n",
       "      <td>NaN</td>\n",
       "      <td>146</td>\n",
       "      <td>Niger</td>\n",
       "      <td>11</td>\n",
       "      <td>...</td>\n",
       "      <td>Casualty numbers for this incident conflict ac...</td>\n",
       "      <td>\"Niger Says 46 Soldiers, 28 Civilians Killed I...</td>\n",
       "      <td>\"Dozens of troops killed in Boko Haram   attac...</td>\n",
       "      <td>\"Boko Haram Attacks Army Base in Niger,\" VOA N...</td>\n",
       "      <td>START Primary Collection</td>\n",
       "      <td>1</td>\n",
       "      <td>1</td>\n",
       "      <td>0</td>\n",
       "      <td>1</td>\n",
       "      <td>NaN</td>\n",
       "    </tr>\n",
       "    <tr>\n",
       "      <th>147358</th>\n",
       "      <td>2.015050e+11</td>\n",
       "      <td>2015</td>\n",
       "      <td>5</td>\n",
       "      <td>7</td>\n",
       "      <td>1970-01-01 00:03:21.505</td>\n",
       "      <td>0</td>\n",
       "      <td>NaN</td>\n",
       "      <td>146</td>\n",
       "      <td>Niger</td>\n",
       "      <td>11</td>\n",
       "      <td>...</td>\n",
       "      <td>NaN</td>\n",
       "      <td>\"Boko Haram kills two soldiers in Cameroon - s...</td>\n",
       "      <td>\"Five civilians killed in Boko Haram attack on...</td>\n",
       "      <td>NaN</td>\n",
       "      <td>START Primary Collection</td>\n",
       "      <td>1</td>\n",
       "      <td>1</td>\n",
       "      <td>0</td>\n",
       "      <td>1</td>\n",
       "      <td>2.01505E+11</td>\n",
       "    </tr>\n",
       "    <tr>\n",
       "      <th>147359</th>\n",
       "      <td>2.015050e+11</td>\n",
       "      <td>2015</td>\n",
       "      <td>5</td>\n",
       "      <td>7</td>\n",
       "      <td>1970-01-01 00:03:21.505</td>\n",
       "      <td>0</td>\n",
       "      <td>NaN</td>\n",
       "      <td>146</td>\n",
       "      <td>Niger</td>\n",
       "      <td>11</td>\n",
       "      <td>...</td>\n",
       "      <td>NaN</td>\n",
       "      <td>\"Boko Haram kills two soldiers in Cameroon - s...</td>\n",
       "      <td>\"Five civilians killed in Boko Haram attack on...</td>\n",
       "      <td>NaN</td>\n",
       "      <td>START Primary Collection</td>\n",
       "      <td>1</td>\n",
       "      <td>1</td>\n",
       "      <td>0</td>\n",
       "      <td>1</td>\n",
       "      <td>2.01505E+11</td>\n",
       "    </tr>\n",
       "    <tr>\n",
       "      <th>149106</th>\n",
       "      <td>2.015060e+11</td>\n",
       "      <td>2015</td>\n",
       "      <td>6</td>\n",
       "      <td>17</td>\n",
       "      <td>1970-01-01 00:03:21.506</td>\n",
       "      <td>0</td>\n",
       "      <td>NaN</td>\n",
       "      <td>146</td>\n",
       "      <td>Niger</td>\n",
       "      <td>11</td>\n",
       "      <td>...</td>\n",
       "      <td>Casualty numbers for this incident conflict ac...</td>\n",
       "      <td>\"38 Civilians Killed In Boko Haram Attack In N...</td>\n",
       "      <td>\"Boko Haram kills 38 civilians in Niger,\" Phil...</td>\n",
       "      <td>\"Boko Haram Militants Kill 37 in Attack in Sou...</td>\n",
       "      <td>START Primary Collection</td>\n",
       "      <td>1</td>\n",
       "      <td>1</td>\n",
       "      <td>0</td>\n",
       "      <td>1</td>\n",
       "      <td>2.01506E+11</td>\n",
       "    </tr>\n",
       "    <tr>\n",
       "      <th>149107</th>\n",
       "      <td>2.015060e+11</td>\n",
       "      <td>2015</td>\n",
       "      <td>6</td>\n",
       "      <td>17</td>\n",
       "      <td>1970-01-01 00:03:21.506</td>\n",
       "      <td>0</td>\n",
       "      <td>NaN</td>\n",
       "      <td>146</td>\n",
       "      <td>Niger</td>\n",
       "      <td>11</td>\n",
       "      <td>...</td>\n",
       "      <td>Casualty numbers for this incident conflict ac...</td>\n",
       "      <td>\"38 Civilians Killed In Boko Haram Attack In N...</td>\n",
       "      <td>\"Boko Haram kills 38 civilians in Niger,\" Phil...</td>\n",
       "      <td>\"Boko Haram Militants Kill 37 in Attack in Sou...</td>\n",
       "      <td>START Primary Collection</td>\n",
       "      <td>1</td>\n",
       "      <td>1</td>\n",
       "      <td>0</td>\n",
       "      <td>1</td>\n",
       "      <td>2.01506E+11</td>\n",
       "    </tr>\n",
       "    <tr>\n",
       "      <th>149346</th>\n",
       "      <td>2.015060e+11</td>\n",
       "      <td>2015</td>\n",
       "      <td>6</td>\n",
       "      <td>23</td>\n",
       "      <td>1970-01-01 00:03:21.506</td>\n",
       "      <td>0</td>\n",
       "      <td>NaN</td>\n",
       "      <td>146</td>\n",
       "      <td>Niger</td>\n",
       "      <td>11</td>\n",
       "      <td>...</td>\n",
       "      <td>NaN</td>\n",
       "      <td>\"Five people killed in 'Boko Haram' attack in ...</td>\n",
       "      <td>\"Niger: Army kills 15 Boko Haram extremists fr...</td>\n",
       "      <td>\"UPDATE 1-Boko Haram militants kill 5 in south...</td>\n",
       "      <td>START Primary Collection</td>\n",
       "      <td>1</td>\n",
       "      <td>1</td>\n",
       "      <td>0</td>\n",
       "      <td>1</td>\n",
       "      <td>NaN</td>\n",
       "    </tr>\n",
       "    <tr>\n",
       "      <th>150002</th>\n",
       "      <td>2.015070e+11</td>\n",
       "      <td>2015</td>\n",
       "      <td>7</td>\n",
       "      <td>9</td>\n",
       "      <td>1970-01-01 00:03:21.507</td>\n",
       "      <td>0</td>\n",
       "      <td>NaN</td>\n",
       "      <td>146</td>\n",
       "      <td>Niger</td>\n",
       "      <td>11</td>\n",
       "      <td>...</td>\n",
       "      <td>NaN</td>\n",
       "      <td>\"Boko Haram Brutally Kills 5 Civilians In Nige...</td>\n",
       "      <td>NaN</td>\n",
       "      <td>NaN</td>\n",
       "      <td>START Primary Collection</td>\n",
       "      <td>1</td>\n",
       "      <td>1</td>\n",
       "      <td>0</td>\n",
       "      <td>1</td>\n",
       "      <td>NaN</td>\n",
       "    </tr>\n",
       "    <tr>\n",
       "      <th>150260</th>\n",
       "      <td>2.015070e+11</td>\n",
       "      <td>2015</td>\n",
       "      <td>7</td>\n",
       "      <td>15</td>\n",
       "      <td>1970-01-01 00:03:21.507</td>\n",
       "      <td>0</td>\n",
       "      <td>NaN</td>\n",
       "      <td>146</td>\n",
       "      <td>Niger</td>\n",
       "      <td>11</td>\n",
       "      <td>...</td>\n",
       "      <td>Casualty numbers for this incident conflict ac...</td>\n",
       "      <td>\"16 Niger Villagers Killed In Boko Haram Attac...</td>\n",
       "      <td>\"Boko Haram militants kill a dozen villagers i...</td>\n",
       "      <td>\"Africa Command OSINT Daily 17-19 July 2015,\" ...</td>\n",
       "      <td>START Primary Collection</td>\n",
       "      <td>1</td>\n",
       "      <td>1</td>\n",
       "      <td>0</td>\n",
       "      <td>1</td>\n",
       "      <td>NaN</td>\n",
       "    </tr>\n",
       "    <tr>\n",
       "      <th>153076</th>\n",
       "      <td>2.015090e+11</td>\n",
       "      <td>2015</td>\n",
       "      <td>9</td>\n",
       "      <td>24</td>\n",
       "      <td>1970-01-01 00:03:21.509</td>\n",
       "      <td>0</td>\n",
       "      <td>NaN</td>\n",
       "      <td>146</td>\n",
       "      <td>Niger</td>\n",
       "      <td>11</td>\n",
       "      <td>...</td>\n",
       "      <td>NaN</td>\n",
       "      <td>\"15 Civilians Killed In Boko Haram Attack In S...</td>\n",
       "      <td>\"Nigerian Report Says Boko Haram Terrorists Ki...</td>\n",
       "      <td>\"Boko Haram kills 15 civilians in Niger villag...</td>\n",
       "      <td>START Primary Collection</td>\n",
       "      <td>1</td>\n",
       "      <td>1</td>\n",
       "      <td>0</td>\n",
       "      <td>1</td>\n",
       "      <td>NaN</td>\n",
       "    </tr>\n",
       "    <tr>\n",
       "      <th>153314</th>\n",
       "      <td>2.015100e+11</td>\n",
       "      <td>2015</td>\n",
       "      <td>10</td>\n",
       "      <td>2</td>\n",
       "      <td>1970-01-01 00:03:21.510</td>\n",
       "      <td>0</td>\n",
       "      <td>NaN</td>\n",
       "      <td>146</td>\n",
       "      <td>Niger</td>\n",
       "      <td>11</td>\n",
       "      <td>...</td>\n",
       "      <td>Casualty numbers for this incident conflict ac...</td>\n",
       "      <td>\"Two Niger soldiers killed in 'Boko Haram ambu...</td>\n",
       "      <td>\"15 killed in twin blasts in Nigeria,\" The Sun...</td>\n",
       "      <td>NaN</td>\n",
       "      <td>START Primary Collection</td>\n",
       "      <td>1</td>\n",
       "      <td>1</td>\n",
       "      <td>0</td>\n",
       "      <td>1</td>\n",
       "      <td>NaN</td>\n",
       "    </tr>\n",
       "    <tr>\n",
       "      <th>154363</th>\n",
       "      <td>2.015100e+11</td>\n",
       "      <td>2015</td>\n",
       "      <td>10</td>\n",
       "      <td>28</td>\n",
       "      <td>1970-01-01 00:03:21.510</td>\n",
       "      <td>0</td>\n",
       "      <td>NaN</td>\n",
       "      <td>146</td>\n",
       "      <td>Niger</td>\n",
       "      <td>11</td>\n",
       "      <td>...</td>\n",
       "      <td>Casualty numbers for this incident conflict ac...</td>\n",
       "      <td>\"13 Killed In Boko Haram Attack In Niger Villa...</td>\n",
       "      <td>\"Suspected Boko Haram militants kill 14 civili...</td>\n",
       "      <td>\"Suspected Boko Haram Militants Kill 14 Person...</td>\n",
       "      <td>START Primary Collection</td>\n",
       "      <td>1</td>\n",
       "      <td>1</td>\n",
       "      <td>0</td>\n",
       "      <td>1</td>\n",
       "      <td>NaN</td>\n",
       "    </tr>\n",
       "    <tr>\n",
       "      <th>155533</th>\n",
       "      <td>2.015110e+11</td>\n",
       "      <td>2015</td>\n",
       "      <td>11</td>\n",
       "      <td>26</td>\n",
       "      <td>1970-01-01 00:03:21.511</td>\n",
       "      <td>1</td>\n",
       "      <td>NaN</td>\n",
       "      <td>146</td>\n",
       "      <td>Niger</td>\n",
       "      <td>11</td>\n",
       "      <td>...</td>\n",
       "      <td>Casualty numbers for this incident conflict ac...</td>\n",
       "      <td>\"18 Killed In Boko Haram Attack In Southeast N...</td>\n",
       "      <td>\"UPDATE 2-Niger says Boko Haram gunmen kill 18...</td>\n",
       "      <td>\"Boko Haram militants kill 15 in Niger,\" Lates...</td>\n",
       "      <td>START Primary Collection</td>\n",
       "      <td>1</td>\n",
       "      <td>1</td>\n",
       "      <td>0</td>\n",
       "      <td>1</td>\n",
       "      <td>NaN</td>\n",
       "    </tr>\n",
       "    <tr>\n",
       "      <th>155612</th>\n",
       "      <td>2.015110e+11</td>\n",
       "      <td>2015</td>\n",
       "      <td>11</td>\n",
       "      <td>28</td>\n",
       "      <td>1970-01-01 00:03:21.511</td>\n",
       "      <td>0</td>\n",
       "      <td>NaN</td>\n",
       "      <td>146</td>\n",
       "      <td>Niger</td>\n",
       "      <td>11</td>\n",
       "      <td>...</td>\n",
       "      <td>Casualty numbers for this incident conflict ac...</td>\n",
       "      <td>\"Boko Haram Raids In Nigeria, Niger Kill Eight...</td>\n",
       "      <td>\"Nigeria's Boko Haram Militants Reportedly Kil...</td>\n",
       "      <td>\"Boko Haram militants kill four, wound two in ...</td>\n",
       "      <td>START Primary Collection</td>\n",
       "      <td>1</td>\n",
       "      <td>1</td>\n",
       "      <td>0</td>\n",
       "      <td>1</td>\n",
       "      <td>NaN</td>\n",
       "    </tr>\n",
       "  </tbody>\n",
       "</table>\n",
       "<p>30 rows × 137 columns</p>\n",
       "</div>"
      ],
      "text/plain": [
       "             eventid  iyear  imonth  iday               approxdate  extended  \\\n",
       "95528   2.010030e+11   2010       3     8  1970-01-01 00:03:21.003         0   \n",
       "101849  2.011060e+11   2011       6    12  1970-01-01 00:03:21.106         0   \n",
       "117552  2.013060e+11   2013       6     1  1970-01-01 00:03:21.306         0   \n",
       "117832  2.013060e+11   2013       6    11  1970-01-01 00:03:21.306         0   \n",
       "131191  2.014050e+11   2014       5     6  1970-01-01 00:03:21.405         0   \n",
       "139525  2.014100e+11   2014      10    30  1970-01-01 00:03:21.410         0   \n",
       "139526  2.014100e+11   2014      10    30  1970-01-01 00:03:21.410         0   \n",
       "139527  2.014100e+11   2014      10    30  1970-01-01 00:03:21.410         0   \n",
       "140387  2.014110e+11   2014      11    19  1970-01-01 00:03:21.411         0   \n",
       "143765  2.015020e+11   2015       2     6  1970-01-01 00:03:21.502         0   \n",
       "143766  2.015020e+11   2015       2     6  1970-01-01 00:03:21.502         0   \n",
       "143892  2.015020e+11   2015       2     9  1970-01-01 00:03:21.502         0   \n",
       "144298  2.015020e+11   2015       2    16  1970-01-01 00:03:21.502         0   \n",
       "144807  2.015030e+11   2015       3     1  1970-01-01 00:03:21.503         0   \n",
       "144808  2.015030e+11   2015       3     1  1970-01-01 00:03:21.503         0   \n",
       "144809  2.015030e+11   2015       3     1  1970-01-01 00:03:21.503         0   \n",
       "144887  2.015030e+11   2015       3     3  1970-01-01 00:03:21.503         0   \n",
       "146904  2.015040e+11   2015       4    25  1970-01-01 00:03:21.504         0   \n",
       "147358  2.015050e+11   2015       5     7  1970-01-01 00:03:21.505         0   \n",
       "147359  2.015050e+11   2015       5     7  1970-01-01 00:03:21.505         0   \n",
       "149106  2.015060e+11   2015       6    17  1970-01-01 00:03:21.506         0   \n",
       "149107  2.015060e+11   2015       6    17  1970-01-01 00:03:21.506         0   \n",
       "149346  2.015060e+11   2015       6    23  1970-01-01 00:03:21.506         0   \n",
       "150002  2.015070e+11   2015       7     9  1970-01-01 00:03:21.507         0   \n",
       "150260  2.015070e+11   2015       7    15  1970-01-01 00:03:21.507         0   \n",
       "153076  2.015090e+11   2015       9    24  1970-01-01 00:03:21.509         0   \n",
       "153314  2.015100e+11   2015      10     2  1970-01-01 00:03:21.510         0   \n",
       "154363  2.015100e+11   2015      10    28  1970-01-01 00:03:21.510         0   \n",
       "155533  2.015110e+11   2015      11    26  1970-01-01 00:03:21.511         1   \n",
       "155612  2.015110e+11   2015      11    28  1970-01-01 00:03:21.511         0   \n",
       "\n",
       "       resolution  country country_txt  region             ...              \\\n",
       "95528         NaN      146       Niger      11             ...               \n",
       "101849        NaN      146       Niger      11             ...               \n",
       "117552        NaN      146       Niger      11             ...               \n",
       "117832        NaN      146       Niger      11             ...               \n",
       "131191        NaN      146       Niger      11             ...               \n",
       "139525        NaN      146       Niger      11             ...               \n",
       "139526        NaN      146       Niger      11             ...               \n",
       "139527        NaN      146       Niger      11             ...               \n",
       "140387        NaN      146       Niger      11             ...               \n",
       "143765        NaN      146       Niger      11             ...               \n",
       "143766        NaN      146       Niger      11             ...               \n",
       "143892        NaN      146       Niger      11             ...               \n",
       "144298        NaN      146       Niger      11             ...               \n",
       "144807        NaN      146       Niger      11             ...               \n",
       "144808        NaN      146       Niger      11             ...               \n",
       "144809        NaN      146       Niger      11             ...               \n",
       "144887        NaN      146       Niger      11             ...               \n",
       "146904        NaN      146       Niger      11             ...               \n",
       "147358        NaN      146       Niger      11             ...               \n",
       "147359        NaN      146       Niger      11             ...               \n",
       "149106        NaN      146       Niger      11             ...               \n",
       "149107        NaN      146       Niger      11             ...               \n",
       "149346        NaN      146       Niger      11             ...               \n",
       "150002        NaN      146       Niger      11             ...               \n",
       "150260        NaN      146       Niger      11             ...               \n",
       "153076        NaN      146       Niger      11             ...               \n",
       "153314        NaN      146       Niger      11             ...               \n",
       "154363        NaN      146       Niger      11             ...               \n",
       "155533        NaN      146       Niger      11             ...               \n",
       "155612        NaN      146       Niger      11             ...               \n",
       "\n",
       "                                                 addnotes  \\\n",
       "95528                                                 NaN   \n",
       "101849                                                NaN   \n",
       "117552                                                NaN   \n",
       "117832                                                NaN   \n",
       "131191                                                NaN   \n",
       "139525  Casualty numbers for this incident conflict ac...   \n",
       "139526                                                NaN   \n",
       "139527                                                NaN   \n",
       "140387  Casualty numbers for this attack conflict acro...   \n",
       "143765  Casualty numbers for this incident conflict ac...   \n",
       "143766  Casualty numbers for this incident conflict ac...   \n",
       "143892                                                NaN   \n",
       "144298                                                NaN   \n",
       "144807  Casualty numbers for this attack represent a d...   \n",
       "144808  Casualty numbers for this attack represent a d...   \n",
       "144809  Casualty numbers for this attack represent a d...   \n",
       "144887                                                NaN   \n",
       "146904  Casualty numbers for this incident conflict ac...   \n",
       "147358                                                NaN   \n",
       "147359                                                NaN   \n",
       "149106  Casualty numbers for this incident conflict ac...   \n",
       "149107  Casualty numbers for this incident conflict ac...   \n",
       "149346                                                NaN   \n",
       "150002                                                NaN   \n",
       "150260  Casualty numbers for this incident conflict ac...   \n",
       "153076                                                NaN   \n",
       "153314  Casualty numbers for this incident conflict ac...   \n",
       "154363  Casualty numbers for this incident conflict ac...   \n",
       "155533  Casualty numbers for this incident conflict ac...   \n",
       "155612  Casualty numbers for this incident conflict ac...   \n",
       "\n",
       "                                                   scite1  \\\n",
       "95528   Mahamane Laouali Can Dah, \"Five soldiers, thre...   \n",
       "101849  Bate Felix, \"Two Die in Niger Clash With Sahel...   \n",
       "117552  \"Niger says 'terrorists escaped' in jail raid,...   \n",
       "117832  \"Gunfire at paramilitary barracks in Niger cap...   \n",
       "131191  \"Niger arrests three suspected Boko Haram gunm...   \n",
       "139525  \"Niger says 9 security forces killed by '  ter...   \n",
       "139526  \"Niger says 9 security forces killed by '  ter...   \n",
       "139527  \"Niger says 9 security forces killed by '  ter...   \n",
       "140387  \"UPDATE 1-Niger sends helicopters to Mali bord...   \n",
       "143765  \"Boko Haram attacks Niger for first time,\" Age...   \n",
       "143766  \"Niger: 109 Boko Haram Militants Killed inside...   \n",
       "143892  \"Boko Haram Wages New Niger Attack As M Ps Vot...   \n",
       "144298  \"Suspected Boko Haram suicide attack thwarted ...   \n",
       "144807  \"19 killed in Boko Haram   attack   in Niger: ...   \n",
       "144808  \"19 killed in Boko Haram   attack   in Niger: ...   \n",
       "144809  \"19 killed in Boko Haram   attack   in Niger: ...   \n",
       "144887  \"2 killed in Boko Haram attack in Niger,\" Xinh...   \n",
       "146904  \"Niger Says 46 Soldiers, 28 Civilians Killed I...   \n",
       "147358  \"Boko Haram kills two soldiers in Cameroon - s...   \n",
       "147359  \"Boko Haram kills two soldiers in Cameroon - s...   \n",
       "149106  \"38 Civilians Killed In Boko Haram Attack In N...   \n",
       "149107  \"38 Civilians Killed In Boko Haram Attack In N...   \n",
       "149346  \"Five people killed in 'Boko Haram' attack in ...   \n",
       "150002  \"Boko Haram Brutally Kills 5 Civilians In Nige...   \n",
       "150260  \"16 Niger Villagers Killed In Boko Haram Attac...   \n",
       "153076  \"15 Civilians Killed In Boko Haram Attack In S...   \n",
       "153314  \"Two Niger soldiers killed in 'Boko Haram ambu...   \n",
       "154363  \"13 Killed In Boko Haram Attack In Niger Villa...   \n",
       "155533  \"18 Killed In Boko Haram Attack In Southeast N...   \n",
       "155612  \"Boko Haram Raids In Nigeria, Niger Kill Eight...   \n",
       "\n",
       "                                                   scite2  \\\n",
       "95528   \"At least five Niger soldiers killed in desert...   \n",
       "101849  JaneÃs Intelligence, ÃUnidentified Militants...   \n",
       "117552  \"Gunmen attack prison in heart of Niger's capi...   \n",
       "117832  \"Gendarmerie camp attacked by armed men in Nig...   \n",
       "131191                                                NaN   \n",
       "139525  \"9 Niger security forces killed in militant at...   \n",
       "139526  \"9 Niger security forces killed in militant at...   \n",
       "139527  \"9 Niger security forces killed in militant at...   \n",
       "140387  \"Expatriates in Niger face heightened risk of ...   \n",
       "143765  \"Niger: 109 Boko Haram Militants Killed inside...   \n",
       "143766  \"109 Boko Haram fighters killed in Niger,\" The...   \n",
       "143892  \"Boko Haram ambushes prison in Niger as Africa...   \n",
       "144298  \"Niger says troops kill suspected Boko Haram s...   \n",
       "144807  \"Boko Haram   militants   kill 19 in Niger,\" I...   \n",
       "144808  \"Boko Haram   militants   kill 19 in Niger,\" I...   \n",
       "144809  \"Boko Haram   militants   kill 19 in Niger,\" I...   \n",
       "144887                                                NaN   \n",
       "146904  \"Dozens of troops killed in Boko Haram   attac...   \n",
       "147358  \"Five civilians killed in Boko Haram attack on...   \n",
       "147359  \"Five civilians killed in Boko Haram attack on...   \n",
       "149106  \"Boko Haram kills 38 civilians in Niger,\" Phil...   \n",
       "149107  \"Boko Haram kills 38 civilians in Niger,\" Phil...   \n",
       "149346  \"Niger: Army kills 15 Boko Haram extremists fr...   \n",
       "150002                                                NaN   \n",
       "150260  \"Boko Haram militants kill a dozen villagers i...   \n",
       "153076  \"Nigerian Report Says Boko Haram Terrorists Ki...   \n",
       "153314  \"15 killed in twin blasts in Nigeria,\" The Sun...   \n",
       "154363  \"Suspected Boko Haram militants kill 14 civili...   \n",
       "155533  \"UPDATE 2-Niger says Boko Haram gunmen kill 18...   \n",
       "155612  \"Nigeria's Boko Haram Militants Reportedly Kil...   \n",
       "\n",
       "                                                   scite3  \\\n",
       "95528                                                 NaN   \n",
       "101849  Sebastian Boe, \"Two Killed in Clashes between ...   \n",
       "117552  \"Belmokhtar claims Niger violence,\" Magharebia...   \n",
       "117832  \"Official: Shooting breaks out near Niger base...   \n",
       "131191                                                NaN   \n",
       "139525  \"SOCAFRICA: Northern Mali Incident Tracker: 27...   \n",
       "139526  \"SOCAFRICA: Northern Mali Incident Tracker: 27...   \n",
       "139527  \"SOCAFRICA: Northern Mali Incident Tracker: 27...   \n",
       "140387                                                NaN   \n",
       "143765  \"109 Boko Haram fighters killed in Niger,\" The...   \n",
       "143766                                                NaN   \n",
       "143892  \"Boko Haram   attacks   Niger prison before vo...   \n",
       "144298                                                NaN   \n",
       "144807                                                NaN   \n",
       "144808                                                NaN   \n",
       "144809                                                NaN   \n",
       "144887                                                NaN   \n",
       "146904  \"Boko Haram Attacks Army Base in Niger,\" VOA N...   \n",
       "147358                                                NaN   \n",
       "147359                                                NaN   \n",
       "149106  \"Boko Haram Militants Kill 37 in Attack in Sou...   \n",
       "149107  \"Boko Haram Militants Kill 37 in Attack in Sou...   \n",
       "149346  \"UPDATE 1-Boko Haram militants kill 5 in south...   \n",
       "150002                                                NaN   \n",
       "150260  \"Africa Command OSINT Daily 17-19 July 2015,\" ...   \n",
       "153076  \"Boko Haram kills 15 civilians in Niger villag...   \n",
       "153314                                                NaN   \n",
       "154363  \"Suspected Boko Haram Militants Kill 14 Person...   \n",
       "155533  \"Boko Haram militants kill 15 in Niger,\" Lates...   \n",
       "155612  \"Boko Haram militants kill four, wound two in ...   \n",
       "\n",
       "                        dbsource  INT_LOG  INT_IDEO INT_MISC INT_ANY  \\\n",
       "95528      UMD Algeria 2010-2012       -9        -9        0      -9   \n",
       "101849                      ISVG        1         1        0       1   \n",
       "117552  START Primary Collection        0         1        0       1   \n",
       "117832  START Primary Collection       -9        -9        0      -9   \n",
       "131191  START Primary Collection        1         1        0       1   \n",
       "139525  START Primary Collection       -9        -9        0      -9   \n",
       "139526  START Primary Collection       -9        -9        0      -9   \n",
       "139527  START Primary Collection       -9        -9        0      -9   \n",
       "140387  START Primary Collection        0         1        0       1   \n",
       "143765  START Primary Collection        1         1        0       1   \n",
       "143766  START Primary Collection        1         1        0       1   \n",
       "143892  START Primary Collection        1         1        0       1   \n",
       "144298  START Primary Collection        1         1        0       1   \n",
       "144807  START Primary Collection        1         1        0       1   \n",
       "144808  START Primary Collection        1         1        0       1   \n",
       "144809  START Primary Collection        1         1        0       1   \n",
       "144887  START Primary Collection        1         1        0       1   \n",
       "146904  START Primary Collection        1         1        0       1   \n",
       "147358  START Primary Collection        1         1        0       1   \n",
       "147359  START Primary Collection        1         1        0       1   \n",
       "149106  START Primary Collection        1         1        0       1   \n",
       "149107  START Primary Collection        1         1        0       1   \n",
       "149346  START Primary Collection        1         1        0       1   \n",
       "150002  START Primary Collection        1         1        0       1   \n",
       "150260  START Primary Collection        1         1        0       1   \n",
       "153076  START Primary Collection        1         1        0       1   \n",
       "153314  START Primary Collection        1         1        0       1   \n",
       "154363  START Primary Collection        1         1        0       1   \n",
       "155533  START Primary Collection        1         1        0       1   \n",
       "155612  START Primary Collection        1         1        0       1   \n",
       "\n",
       "                           related  \n",
       "95528                          NaN  \n",
       "101849                         NaN  \n",
       "117552                         NaN  \n",
       "117832                         NaN  \n",
       "131191                         NaN  \n",
       "139525  201410300017, 201410300018  \n",
       "139526  201410300016, 201410300018  \n",
       "139527  201410300016, 201410300017  \n",
       "140387                         NaN  \n",
       "143765                 2.01502E+11  \n",
       "143766                 2.01502E+11  \n",
       "143892                 2.01502E+11  \n",
       "144298                 2.01502E+11  \n",
       "144807  201503010159, 201503010160  \n",
       "144808  201503010158, 201503010160  \n",
       "144809  201503010158, 201503010159  \n",
       "144887                         NaN  \n",
       "146904                         NaN  \n",
       "147358                 2.01505E+11  \n",
       "147359                 2.01505E+11  \n",
       "149106                 2.01506E+11  \n",
       "149107                 2.01506E+11  \n",
       "149346                         NaN  \n",
       "150002                         NaN  \n",
       "150260                         NaN  \n",
       "153076                         NaN  \n",
       "153314                         NaN  \n",
       "154363                         NaN  \n",
       "155533                         NaN  \n",
       "155612                         NaN  \n",
       "\n",
       "[30 rows x 137 columns]"
      ]
     },
     "execution_count": 18,
     "metadata": {},
     "output_type": "execute_result"
    }
   ],
   "source": [
    "gtdb[(gtdb.attacktype1 == 2) & (gtdb.country == 146) & (gtdb.iyear > 2009)]"
   ]
  },
  {
   "cell_type": "code",
   "execution_count": 19,
   "metadata": {
    "collapsed": false
   },
   "outputs": [
    {
     "data": {
      "text/plain": [
       "array([ 1,  1,  2,  5, 21])"
      ]
     },
     "execution_count": 19,
     "metadata": {},
     "output_type": "execute_result"
    }
   ],
   "source": [
    "nigerp"
   ]
  },
  {
   "cell_type": "code",
   "execution_count": 20,
   "metadata": {
    "collapsed": false
   },
   "outputs": [
    {
     "name": "stdout",
     "output_type": "stream",
     "text": [
      "6.0\n"
     ]
    }
   ],
   "source": [
    "nigerp_mean = nigerp.mean()  #2009-2015 Niger  \n",
    "print nigerp_mean\n"
   ]
  },
  {
   "cell_type": "code",
   "execution_count": 21,
   "metadata": {
    "collapsed": false
   },
   "outputs": [
    {
     "name": "stdout",
     "output_type": "stream",
     "text": [
      "7.64198926982\n"
     ]
    }
   ],
   "source": [
    "nigerp_std = nigerp.std()\n",
    "print nigerp_std"
   ]
  },
  {
   "cell_type": "code",
   "execution_count": 22,
   "metadata": {
    "collapsed": true
   },
   "outputs": [],
   "source": [
    "cameroonp = gtdb[(gtdb.attacktype1 == 2) & (gtdb.country == 37) & (gtdb.iyear > 2009)].groupby(['iyear']).attacktype1.count().values"
   ]
  },
  {
   "cell_type": "code",
   "execution_count": 23,
   "metadata": {
    "collapsed": false
   },
   "outputs": [
    {
     "data": {
      "text/plain": [
       "array([ 2,  2,  1, 18, 15])"
      ]
     },
     "execution_count": 23,
     "metadata": {},
     "output_type": "execute_result"
    }
   ],
   "source": [
    "cameroonp          #Probably won't do analyis on all 4 countries in Lake Chad Region. "
   ]
  },
  {
   "cell_type": "code",
   "execution_count": 24,
   "metadata": {
    "collapsed": false
   },
   "outputs": [],
   "source": [
    "with pm.Model() as model:\n",
    "    groupNigeria_mean = pm.Normal('Bombings_Nigeria_mean', mean_prior_mean, sd=mean_prior_std)\n",
    "    groupNiger_mean = pm.Normal('Bombings_Niger_mean', mean_prior_mean, sd=mean_prior_std)\n",
    "\n"
   ]
  },
  {
   "cell_type": "code",
   "execution_count": 25,
   "metadata": {
    "collapsed": true
   },
   "outputs": [],
   "source": [
    "std_prior_lower = 0.01\n",
    "std_prior_upper = 100.0\n",
    "\n",
    "with model:\n",
    "    \n",
    "    groupNigeria_std = pm.Uniform('Bombings_Nigeria_std', lower=std_prior_lower, upper=std_prior_upper)\n",
    "    groupNiger_std = pm.Uniform('Bombings_Niger_std', lower=std_prior_lower, upper=std_prior_upper)"
   ]
  },
  {
   "cell_type": "code",
   "execution_count": 26,
   "metadata": {
    "collapsed": false
   },
   "outputs": [],
   "source": [
    "with model:\n",
    "\n",
    "    groupNigeria = pm.Normal('Bombings_Nigeria', mu=groupNigeria_mean, sd=groupNigeria_std, observed=nigeriap)\n",
    "    groupNiger = pm.Normal('Bombings_Niger', mu=groupNiger_mean, sd=groupNiger_std, observed=nigerp)"
   ]
  },
  {
   "cell_type": "code",
   "execution_count": 27,
   "metadata": {
    "collapsed": true
   },
   "outputs": [],
   "source": [
    "with model:\n",
    "\n",
    "    diff_of_means = pm.Deterministic('difference of means',groupNigeria_mean - groupNiger_mean)\n",
    "    diff_of_stds = pm.Deterministic('difference of stds',groupNigeria_std - groupNiger_std)\n",
    "    effect_size = pm.Deterministic('effect size', diff_of_means / np.sqrt((groupNigeria_std**2 + groupNiger_std**2) / 2))\n"
   ]
  },
  {
   "cell_type": "code",
   "execution_count": 28,
   "metadata": {
    "collapsed": false
   },
   "outputs": [
    {
     "name": "stderr",
     "output_type": "stream",
     "text": [
      "Auto-assigning NUTS sampler...\n",
      "Initializing NUTS using advi...\n",
      "Average ELBO = -69.953: 100%|██████████| 200000/200000 [00:14<00:00, 13600.35it/s]\n",
      "Finished [100%]: Average ELBO = -69.744\n",
      "100%|██████████| 25000/25000 [01:24<00:00, 297.39it/s]\n"
     ]
    }
   ],
   "source": [
    "with model:\n",
    "    trace = pm.sample(25000, njobs=4)"
   ]
  },
  {
   "cell_type": "code",
   "execution_count": 29,
   "metadata": {
    "collapsed": false
   },
   "outputs": [
    {
     "data": {
      "text/plain": [
       "array([<matplotlib.axes._subplots.AxesSubplot object at 0x1113818d0>,\n",
       "       <matplotlib.axes._subplots.AxesSubplot object at 0x1170c0190>,\n",
       "       <matplotlib.axes._subplots.AxesSubplot object at 0x117fcd150>,\n",
       "       <matplotlib.axes._subplots.AxesSubplot object at 0x1174c03d0>], dtype=object)"
      ]
     },
     "execution_count": 29,
     "metadata": {},
     "output_type": "execute_result"
    },
    {
     "data": {
      "image/png": "[encoded data removed]",
      "text/plain": [
       "<matplotlib.figure.Figure at 0x118cfef50>"
      ]
     },
     "metadata": {
      "image/png": {
       "height": 343,
       "width": 845
      }
     },
     "output_type": "display_data"
    }
   ],
   "source": [
    "pm.plot_posterior(trace[3000:],\n",
    "                  varnames=['Bombings_Nigeria_mean', 'Bombings_Niger_mean', 'Bombings_Nigeria_std', 'Bombings_Niger_std'],color='turquoise')"
   ]
  },
  {
   "cell_type": "code",
   "execution_count": null,
   "metadata": {
    "collapsed": true
   },
   "outputs": [],
   "source": []
  },
  {
   "cell_type": "code",
   "execution_count": 30,
   "metadata": {
    "collapsed": false
   },
   "outputs": [
    {
     "data": {
      "text/plain": [
       "array([<matplotlib.axes._subplots.AxesSubplot object at 0x111503a90>,\n",
       "       <matplotlib.axes._subplots.AxesSubplot object at 0x117e68d10>,\n",
       "       <matplotlib.axes._subplots.AxesSubplot object at 0x11705d550>], dtype=object)"
      ]
     },
     "execution_count": 30,
     "metadata": {},
     "output_type": "execute_result"
    },
    {
     "data": {
      "image/png": "[encoded data removed]",
      "text/plain": [
       "<matplotlib.figure.Figure at 0x110f81a50>"
      ]
     },
     "metadata": {
      "image/png": {
       "height": 343,
       "width": 846
      }
     },
     "output_type": "display_data"
    }
   ],
   "source": [
    "pm.plot_posterior(trace[3000:],\n",
    "                  varnames=['difference of means', 'difference of stds', 'effect size'],\n",
    "                  ref_val=0,\n",
    "                  color='turquoise')"
   ]
  },
  {
   "cell_type": "markdown",
   "metadata": {},
   "source": [
    "The frequency in which armed assults occurs in niger is significantly different than the frequency of Armed assults that occured in Niger based on a 95 percent credible interval. "
   ]
  },
  {
   "cell_type": "code",
   "execution_count": 31,
   "metadata": {
    "collapsed": false
   },
   "outputs": [
    {
     "name": "stdout",
     "output_type": "stream",
     "text": [
      "\n",
      "difference of means:\n",
      "\n",
      "  Mean             SD               MC Error         95% HPD interval\n",
      "  -------------------------------------------------------------------\n",
      "  \n",
      "  131.987          30.356           0.108            [73.132, 191.909]\n",
      "\n",
      "  Posterior quantiles:\n",
      "  2.5            25             50             75             97.5\n",
      "  |--------------|==============|==============|--------------|\n",
      "  \n",
      "  71.769         111.759        132.204        152.642        190.642\n",
      "\n",
      "\n",
      "difference of stds:\n",
      "\n",
      "  Mean             SD               MC Error         95% HPD interval\n",
      "  -------------------------------------------------------------------\n",
      "  \n",
      "  78.700           10.448           0.075            [58.985, 93.680]\n",
      "\n",
      "  Posterior quantiles:\n",
      "  2.5            25             50             75             97.5\n",
      "  |--------------|==============|==============|--------------|\n",
      "  \n",
      "  53.143         73.847         80.844         85.987         91.966\n",
      "\n",
      "\n",
      "effect size:\n",
      "\n",
      "  Mean             SD               MC Error         95% HPD interval\n",
      "  -------------------------------------------------------------------\n",
      "  \n",
      "  2.020            0.523            0.002            [1.002, 3.059]\n",
      "\n",
      "  Posterior quantiles:\n",
      "  2.5            25             50             75             97.5\n",
      "  |--------------|==============|==============|--------------|\n",
      "  \n",
      "  1.047          1.666          2.000          2.352          3.119\n",
      "\n"
     ]
    }
   ],
   "source": [
    "pm.summary(trace[3000:],\n",
    "           varnames=['difference of means', 'difference of stds', 'effect size'])"
   ]
  },
  {
   "cell_type": "code",
   "execution_count": 33,
   "metadata": {
    "collapsed": false
   },
   "outputs": [],
   "source": [
    "#ATTACKS IN NIGERIA BY YEAR \n",
    "\n",
    "\n",
    "Nigeriatd = gtdb[gtdb.country_txt=='Nigeria']\n",
    "\n"
   ]
  },
  {
   "cell_type": "code",
   "execution_count": 34,
   "metadata": {
    "collapsed": false
   },
   "outputs": [
    {
     "data": {
      "text/plain": [
       "<matplotlib.text.Text at 0x1182a1a90>"
      ]
     },
     "execution_count": 34,
     "metadata": {},
     "output_type": "execute_result"
    },
    {
     "data": {
      "image/png": "[encoded data removed]",
      "text/plain": [
       "<matplotlib.figure.Figure at 0x1182fb2d0>"
      ]
     },
     "metadata": {
      "image/png": {
       "height": 369,
       "width": 544
      }
     },
     "output_type": "display_data"
    }
   ],
   "source": [
    "#annual_terror.plot(kind='barh', color='turquoise',figsize=[10,10]    #already have a graphy showing this \n",
    "\n",
    "plt.hist(Nigeriatd['iyear'])\n",
    "plt.title('Nigeria Terrorist Attacks per annum', size=16)\n"
   ]
  },
  {
   "cell_type": "code",
   "execution_count": 35,
   "metadata": {
    "collapsed": false
   },
   "outputs": [
    {
     "data": {
      "text/plain": [
       "Armed Assault                     1320\n",
       "Bombing/Explosion                  786\n",
       "Hostage Taking (Kidnapping)        332\n",
       "Facility/Infrastructure Attack     202\n",
       "Assassination                      148\n",
       "Name: attacktype1_txt, dtype: int64"
      ]
     },
     "execution_count": 35,
     "metadata": {},
     "output_type": "execute_result"
    }
   ],
   "source": [
    "Nigeriatd['attacktype1_txt'].value_counts().head(5)"
   ]
  },
  {
   "cell_type": "code",
   "execution_count": 38,
   "metadata": {
    "collapsed": false
   },
   "outputs": [],
   "source": [
    "Nigertd = gtdb[gtdb.country_txt=='Niger']\n"
   ]
  },
  {
   "cell_type": "code",
   "execution_count": null,
   "metadata": {
    "collapsed": true
   },
   "outputs": [],
   "source": []
  },
  {
   "cell_type": "code",
   "execution_count": 39,
   "metadata": {
    "collapsed": false
   },
   "outputs": [
    {
     "data": {
      "text/plain": [
       "<matplotlib.text.Text at 0x1100eccd0>"
      ]
     },
     "execution_count": 39,
     "metadata": {},
     "output_type": "execute_result"
    },
    {
     "data": {
      "image/png": "[encoded data removed]",
      "text/plain": [
       "<matplotlib.figure.Figure at 0x1181a5150>"
      ]
     },
     "metadata": {
      "image/png": {
       "height": 369,
       "width": 533
      }
     },
     "output_type": "display_data"
    }
   ],
   "source": [
    "plt.hist(Nigertd['iyear'])\n",
    "plt.title('Niger Terrorist Attacks per annum', size=16)"
   ]
  },
  {
   "cell_type": "code",
   "execution_count": null,
   "metadata": {
    "collapsed": false
   },
   "outputs": [],
   "source": [
    "Nigertd['attacktype1_txt'].value_counts().head(5)"
   ]
  },
  {
   "cell_type": "markdown",
   "metadata": {},
   "source": [
    "1993"
   ]
  },
  {
   "cell_type": "code",
   "execution_count": 41,
   "metadata": {
    "collapsed": false
   },
   "outputs": [
    {
     "data": {
      "text/plain": [
       "1731"
      ]
     },
     "execution_count": 41,
     "metadata": {},
     "output_type": "execute_result"
    }
   ],
   "source": [
    "gtdb[(gtdb.attacktype1 ==3) & \n",
    "        (gtdb.iyear == 1990)].groupby(['iyear', 'region']).attacktype1.count().sum()"
   ]
  },
  {
   "cell_type": "code",
   "execution_count": 42,
   "metadata": {
    "collapsed": false
   },
   "outputs": [
    {
     "data": {
      "text/plain": [
       "1988"
      ]
     },
     "execution_count": 42,
     "metadata": {},
     "output_type": "execute_result"
    }
   ],
   "source": [
    "\n",
    "gtdb[(gtdb.attacktype1 ==3) & \n",
    "        (gtdb.iyear == 1991)].groupby(['iyear', 'region']).attacktype1.count().sum()\n",
    "\n"
   ]
  },
  {
   "cell_type": "code",
   "execution_count": 43,
   "metadata": {
    "collapsed": false
   },
   "outputs": [
    {
     "data": {
      "text/plain": [
       "1738"
      ]
     },
     "execution_count": 43,
     "metadata": {},
     "output_type": "execute_result"
    }
   ],
   "source": [
    "gtdb[(gtdb.attacktype1 ==3) & \n",
    "        (gtdb.iyear == 1992)].groupby(['iyear', 'region']).attacktype1.value_counts().sum()"
   ]
  },
  {
   "cell_type": "code",
   "execution_count": 44,
   "metadata": {
    "collapsed": false
   },
   "outputs": [
    {
     "data": {
      "text/plain": [
       "1153"
      ]
     },
     "execution_count": 44,
     "metadata": {},
     "output_type": "execute_result"
    }
   ],
   "source": [
    "gtdb[(gtdb.attacktype1 ==3) & \n",
    "        (gtdb.iyear == 1994)].groupby(['iyear', 'region']).attacktype1.value_counts().sum()"
   ]
  },
  {
   "cell_type": "code",
   "execution_count": 45,
   "metadata": {
    "collapsed": false
   },
   "outputs": [
    {
     "data": {
      "text/plain": [
       "791"
      ]
     },
     "execution_count": 45,
     "metadata": {},
     "output_type": "execute_result"
    }
   ],
   "source": [
    "gtdb[(gtdb.attacktype1 ==3) & \n",
    "        (gtdb.iyear == 1995)].groupby(['iyear', 'region']).attacktype1.value_counts().sum()"
   ]
  },
  {
   "cell_type": "code",
   "execution_count": 46,
   "metadata": {
    "collapsed": false
   },
   "outputs": [
    {
     "data": {
      "text/plain": [
       "1217"
      ]
     },
     "execution_count": 46,
     "metadata": {},
     "output_type": "execute_result"
    }
   ],
   "source": [
    "\n",
    "\n",
    "gtdb[(gtdb.attacktype1 ==3) & \n",
    "        (gtdb.iyear == 1996)].groupby(['iyear', 'region']).attacktype1.value_counts().sum()\n",
    "\n"
   ]
  },
  {
   "cell_type": "code",
   "execution_count": 50,
   "metadata": {
    "collapsed": false
   },
   "outputs": [
    {
     "data": {
      "text/plain": [
       "1436"
      ]
     },
     "execution_count": 50,
     "metadata": {},
     "output_type": "execute_result"
    }
   ],
   "source": [
    "(1217+791+1153+1738+1988+1731)/6"
   ]
  },
  {
   "cell_type": "code",
   "execution_count": null,
   "metadata": {
    "collapsed": true
   },
   "outputs": [],
   "source": [
    "#How does one justify this? "
   ]
  },
  {
   "cell_type": "code",
   "execution_count": null,
   "metadata": {
    "collapsed": false
   },
   "outputs": [],
   "source": []
  },
  {
   "cell_type": "code",
   "execution_count": 48,
   "metadata": {
    "collapsed": false
   },
   "outputs": [],
   "source": [
    "gtdb[\"approxdate\"] = pd.to_datetime(gtdb.eventid)"
   ]
  },
  {
   "cell_type": "code",
   "execution_count": 49,
   "metadata": {
    "collapsed": false
   },
   "outputs": [],
   "source": [
    "# gtdb.to_csv('../../../gtdb_data.csv',index=False, encoding = \"utf-8\")"
   ]
  },
  {
   "cell_type": "markdown",
   "metadata": {
    "collapsed": true
   },
   "source": [
    "\n",
    "Bayesian Inference \n",
    "\n",
    "The Global Terrorism Database (GTD) is vast and complex, so there are several factors to consider regarding how terrorism is define, data-collection methods, and missing data. This review of my methodology will address these issues as well as address my approach to imputation of critical missing data. It will also provide background on a specific terrorist network and why I chose them as a use case for Bayesian analysis. \n",
    "GTD defines terrorism as “the threatened or actual use of illegal force and violence by a non‐state actor to attain a political, economic, religious, or social goal through fear, coercion, or intimidation.”  This definition is consistent with most media definition of terrorism but the emphasis should be placed on non-state actor. The term state-sponsored terrorism is widely used in literature, so we need to be specific exactly about what we are trying to measure and make inferences on.   \n",
    "To properly conduct a Bayesian Inference, I first needed to identify two target populations and a prior metric for comparison, so I can then go about generating a posterior. I had an initial idea of how I wanted to go about this but it required examining at the data and extensive background research. I knew in the early stages that I wanted to focus on the attacks of one terrorist group that carried out attacks in two different countries. The idea is to show that the two attacks are correlated spatiotemporally.\n",
    "\n",
    "As part of my exploratory data analysis, I looked at terrorist attacks by year seeing a significant spike in 2013. While most occurred in the Middle East in North Africa, Sub Saharan Africa had the second highest number of attacks. Moreover, there is significant attention by the media focused on ISIS and terrorism in the Middle East, so I want to survey how global terrorism had manifested itself differently in a different region of the world. In my case, I wanted to study Boko Haram in detail and their activity in Nigeria and surrounding countries. Scholarship on the region has frequently referred to the area the Lake Chad Region of Africa which consists of Nigeria, Niger, Chad, and Cameroon. Since Boko Haram had pledged allegiance to ISIS in 2015, I wanted to look at the group in depth and how it’s carnage had played out in Nigeria where the country is starkly divided along religious, ethnic, linguistic and legal lines. In terms of the Bayesian component of this project I wanted to see if there was a correlation between attack sites on both sides of the Niger-Nigerian boarder, especially after reading about the displacement of millions of Nigerian Refugees in its neighbor to the east. \n",
    "\n",
    "While there were originally 138 variables in the dataset, I chose to focus specifically on the following: date, location, group, type of attack, and casualties. In the end, I wasn’t so concerned with casualties, but these figures do have implications for combatting terrorism. In terms of numbers of attacks, the database revealed that from 1970 to 2015, there were 2,888 attacks in Nigeria many of which can be attributed to oil related violence prior to the advent of Boko Haram. In neighboring Niger, there were also a number attacks related to military discontent and a Taureg rebellion. \n",
    "\n",
    " I determined that there were 1,839 attacks carried out by the Wahabist group since its founding in 2002. From my external research and just by looking at graphical depictions of the data, I concluded that the group had a huge uptick in activity since 2009. Therefore my prior would consist of attacks prior to 1999 and my data would consist of the data from 2009 through 2015.  Initially, I had wanted to look at bombings, but later learned that armed attacks were the most frequent method used by the group, so I chose accordingly. For example, in Nigeria there were 1320 instances of armed assault and only 786 instances of bombings most of which occurred after 2009. Not all of these attacks were carried out by Boko Haram, so for the purposes of working with a larger data set, I decided to work with armed attacks when carrying out a Bayesian analysis.  \n",
    "The prior mean or armed attacks made by the group was 34.19 and the standard deviation was 46.54. In Nigeria, from 2009 – 2015 there was roughly 206 attacks and a standard deviation of 124.65. In contrast Nigeria had an average of 6 with a standard deviation of 7.64. based on a 95 percent credible interval.  Since these populations were distributed so far apart, I had reason to conclude that there was little correlation between the out breaks of armed assaults in Niger and Nigeria. \n",
    "\n",
    "Imputing 1993 data \n",
    "\n",
    "The Global Terrorism Database reportedly collect data from 1970 to 1995 using hard-copy index cards which were eventually uploaded electronically by the Pikerton Global Intelligence Service. Unfortunately, when the data changed hands and was transferred electronically to the National Consortium for the Study of Terrorism and Responses to Terrorism (START), much of the data lost for 1993 with only 15 percent of data for the year being reproducible and available for study. \n",
    "Attached to the Codebook provided by START, is an appendix that provides high level data on the number of attacks taking place in each country and the number of fatalities. In Niger, there were 7 and in Nigeria there was 17. While this does not have much influence on Boko Haram since they had not yet organized, it is important to address this missing data for the study of terrorism and trends. This is vital to Bayesian analysis and necessary for computing any sort of posterior distribution. \n",
    "\n",
    "While there is an entire field of study devoted to the handling of missing data for MCMC, I went for a basic approach.  To impute the attacks, I added the attacks from 1990 through 1992 and 1994 through 1996. I took the average of this number to get 1,436. This mean imputation strategy has hit pitfalls such as distorting the information between variables, distort the distribution for the variables and underestimates the standard deviation. However, since I used only a 6 year time frame, it’s my view that I can limit the scope of the errors within the context of this database. While this is only ideal for estimating the number of attacks for 1993, it does not do much for building models based on location, guessing which group is responsible, etc. At the same time, it’s worth nothing that many of the groups responsible for carrying out attacks in 1993 may no longer be active or have moved to different locations etc. For this reason, it’s imperative that researchers conduct background research and consult national governments and municipalities to conduct cleaner research in any instance of missing terrorist data. \n"
   ]
  }
 ],
 "metadata": {
  "kernelspec": {
   "display_name": "Python 2",
   "language": "python",
   "name": "python2"
  },
  "language_info": {
   "codemirror_mode": {
    "name": "ipython",
    "version": 2
   },
   "file_extension": ".py",
   "mimetype": "text/x-python",
   "name": "python",
   "nbconvert_exporter": "python",
   "pygments_lexer": "ipython2",
   "version": "2.7.13"
  }
 },
 "nbformat": 4,
 "nbformat_minor": 2
}
